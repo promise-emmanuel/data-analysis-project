{
 "cells": [
  {
   "cell_type": "markdown",
   "metadata": {},
   "source": [
    "### Data Wrangling on Retail Sales Dataset\n"
   ]
  },
  {
   "cell_type": "code",
   "execution_count": 1,
   "metadata": {},
   "outputs": [],
   "source": [
    "%load_ext autoreload\n",
    "%autoreload 2\n",
    "\n"
   ]
  },
  {
   "cell_type": "code",
   "execution_count": 2,
   "metadata": {},
   "outputs": [],
   "source": [
    "import pandas as pd\n"
   ]
  },
  {
   "cell_type": "code",
   "execution_count": 3,
   "metadata": {},
   "outputs": [
    {
     "data": {
      "text/html": [
       "<div>\n",
       "<style scoped>\n",
       "    .dataframe tbody tr th:only-of-type {\n",
       "        vertical-align: middle;\n",
       "    }\n",
       "\n",
       "    .dataframe tbody tr th {\n",
       "        vertical-align: top;\n",
       "    }\n",
       "\n",
       "    .dataframe thead th {\n",
       "        text-align: right;\n",
       "    }\n",
       "</style>\n",
       "<table border=\"1\" class=\"dataframe\">\n",
       "  <thead>\n",
       "    <tr style=\"text-align: right;\">\n",
       "      <th></th>\n",
       "      <th>invoice_no</th>\n",
       "      <th>customer_id</th>\n",
       "      <th>gender</th>\n",
       "      <th>age</th>\n",
       "      <th>category</th>\n",
       "      <th>quantity</th>\n",
       "      <th>price</th>\n",
       "      <th>payment_method</th>\n",
       "      <th>invoice_date</th>\n",
       "      <th>shopping_mall</th>\n",
       "    </tr>\n",
       "  </thead>\n",
       "  <tbody>\n",
       "    <tr>\n",
       "      <th>0</th>\n",
       "      <td>I138884</td>\n",
       "      <td>C241288</td>\n",
       "      <td>Female</td>\n",
       "      <td>28</td>\n",
       "      <td>Clothing</td>\n",
       "      <td>5</td>\n",
       "      <td>1500.40</td>\n",
       "      <td>Credit Card</td>\n",
       "      <td>5/8/2022</td>\n",
       "      <td>Kanyon</td>\n",
       "    </tr>\n",
       "    <tr>\n",
       "      <th>1</th>\n",
       "      <td>I317333</td>\n",
       "      <td>C111565</td>\n",
       "      <td>Male</td>\n",
       "      <td>21</td>\n",
       "      <td>Shoes</td>\n",
       "      <td>3</td>\n",
       "      <td>1800.51</td>\n",
       "      <td>Debit Card</td>\n",
       "      <td>12/12/2021</td>\n",
       "      <td>Forum Istanbul</td>\n",
       "    </tr>\n",
       "    <tr>\n",
       "      <th>2</th>\n",
       "      <td>I127801</td>\n",
       "      <td>C266599</td>\n",
       "      <td>Male</td>\n",
       "      <td>20</td>\n",
       "      <td>Clothing</td>\n",
       "      <td>1</td>\n",
       "      <td>300.08</td>\n",
       "      <td>Cash</td>\n",
       "      <td>9/11/2021</td>\n",
       "      <td>Metrocity</td>\n",
       "    </tr>\n",
       "    <tr>\n",
       "      <th>3</th>\n",
       "      <td>I173702</td>\n",
       "      <td>C988172</td>\n",
       "      <td>Female</td>\n",
       "      <td>66</td>\n",
       "      <td>Shoes</td>\n",
       "      <td>5</td>\n",
       "      <td>3000.85</td>\n",
       "      <td>Credit Card</td>\n",
       "      <td>16/05/2021</td>\n",
       "      <td>Metropol AVM</td>\n",
       "    </tr>\n",
       "    <tr>\n",
       "      <th>4</th>\n",
       "      <td>I337046</td>\n",
       "      <td>C189076</td>\n",
       "      <td>Female</td>\n",
       "      <td>53</td>\n",
       "      <td>Books</td>\n",
       "      <td>4</td>\n",
       "      <td>60.60</td>\n",
       "      <td>Cash</td>\n",
       "      <td>24/10/2021</td>\n",
       "      <td>Kanyon</td>\n",
       "    </tr>\n",
       "    <tr>\n",
       "      <th>5</th>\n",
       "      <td>I227836</td>\n",
       "      <td>C657758</td>\n",
       "      <td>Female</td>\n",
       "      <td>28</td>\n",
       "      <td>Clothing</td>\n",
       "      <td>5</td>\n",
       "      <td>1500.40</td>\n",
       "      <td>Credit Card</td>\n",
       "      <td>24/05/2022</td>\n",
       "      <td>Forum Istanbul</td>\n",
       "    </tr>\n",
       "    <tr>\n",
       "      <th>6</th>\n",
       "      <td>I121056</td>\n",
       "      <td>C151197</td>\n",
       "      <td>Female</td>\n",
       "      <td>49</td>\n",
       "      <td>Cosmetics</td>\n",
       "      <td>1</td>\n",
       "      <td>40.66</td>\n",
       "      <td>Cash</td>\n",
       "      <td>13/03/2022</td>\n",
       "      <td>Istinye Park</td>\n",
       "    </tr>\n",
       "    <tr>\n",
       "      <th>7</th>\n",
       "      <td>I293112</td>\n",
       "      <td>C176086</td>\n",
       "      <td>Female</td>\n",
       "      <td>32</td>\n",
       "      <td>Clothing</td>\n",
       "      <td>2</td>\n",
       "      <td>600.16</td>\n",
       "      <td>Credit Card</td>\n",
       "      <td>13/01/2021</td>\n",
       "      <td>Mall of Istanbul</td>\n",
       "    </tr>\n",
       "    <tr>\n",
       "      <th>8</th>\n",
       "      <td>I293455</td>\n",
       "      <td>C159642</td>\n",
       "      <td>Male</td>\n",
       "      <td>69</td>\n",
       "      <td>Clothing</td>\n",
       "      <td>3</td>\n",
       "      <td>900.24</td>\n",
       "      <td>Credit Card</td>\n",
       "      <td>4/11/2021</td>\n",
       "      <td>Metrocity</td>\n",
       "    </tr>\n",
       "    <tr>\n",
       "      <th>9</th>\n",
       "      <td>I326945</td>\n",
       "      <td>C283361</td>\n",
       "      <td>Female</td>\n",
       "      <td>60</td>\n",
       "      <td>Clothing</td>\n",
       "      <td>2</td>\n",
       "      <td>600.16</td>\n",
       "      <td>Credit Card</td>\n",
       "      <td>22/08/2021</td>\n",
       "      <td>Kanyon</td>\n",
       "    </tr>\n",
       "  </tbody>\n",
       "</table>\n",
       "</div>"
      ],
      "text/plain": [
       "  invoice_no customer_id  gender  age   category  quantity    price  \\\n",
       "0    I138884     C241288  Female   28   Clothing         5  1500.40   \n",
       "1    I317333     C111565    Male   21      Shoes         3  1800.51   \n",
       "2    I127801     C266599    Male   20   Clothing         1   300.08   \n",
       "3    I173702     C988172  Female   66      Shoes         5  3000.85   \n",
       "4    I337046     C189076  Female   53      Books         4    60.60   \n",
       "5    I227836     C657758  Female   28   Clothing         5  1500.40   \n",
       "6    I121056     C151197  Female   49  Cosmetics         1    40.66   \n",
       "7    I293112     C176086  Female   32   Clothing         2   600.16   \n",
       "8    I293455     C159642    Male   69   Clothing         3   900.24   \n",
       "9    I326945     C283361  Female   60   Clothing         2   600.16   \n",
       "\n",
       "  payment_method invoice_date     shopping_mall  \n",
       "0    Credit Card     5/8/2022            Kanyon  \n",
       "1     Debit Card   12/12/2021    Forum Istanbul  \n",
       "2           Cash    9/11/2021         Metrocity  \n",
       "3    Credit Card   16/05/2021      Metropol AVM  \n",
       "4           Cash   24/10/2021            Kanyon  \n",
       "5    Credit Card   24/05/2022    Forum Istanbul  \n",
       "6           Cash   13/03/2022      Istinye Park  \n",
       "7    Credit Card   13/01/2021  Mall of Istanbul  \n",
       "8    Credit Card    4/11/2021         Metrocity  \n",
       "9    Credit Card   22/08/2021            Kanyon  "
      ]
     },
     "execution_count": 3,
     "metadata": {},
     "output_type": "execute_result"
    }
   ],
   "source": [
    "df = pd.read_csv(\"customer_shopping_data.csv\")\n",
    "# view the first 10 rows\n",
    "df.head(10)"
   ]
  },
  {
   "cell_type": "markdown",
   "metadata": {},
   "source": [
    "Identify and calculate the percentage of missing values in each attribute or columns"
   ]
  },
  {
   "cell_type": "code",
   "execution_count": 4,
   "metadata": {},
   "outputs": [
    {
     "data": {
      "text/plain": [
       "invoice_no        0.0\n",
       "customer_id       0.0\n",
       "gender            0.0\n",
       "age               0.0\n",
       "category          0.0\n",
       "quantity          0.0\n",
       "price             0.0\n",
       "payment_method    0.0\n",
       "invoice_date      0.0\n",
       "shopping_mall     0.0\n",
       "dtype: float64"
      ]
     },
     "execution_count": 4,
     "metadata": {},
     "output_type": "execute_result"
    }
   ],
   "source": [
    "df.isnull().sum()/len(df)*100"
   ]
  },
  {
   "cell_type": "markdown",
   "metadata": {},
   "source": [
    "there are no missing data.... Data exploration to understand the data"
   ]
  },
  {
   "cell_type": "code",
   "execution_count": null,
   "metadata": {},
   "outputs": [
    {
     "data": {
      "text/plain": [
       "invoice_no         object\n",
       "customer_id        object\n",
       "gender             object\n",
       "age                 int64\n",
       "category           object\n",
       "quantity            int64\n",
       "price             float64\n",
       "payment_method     object\n",
       "invoice_date       object\n",
       "shopping_mall      object\n",
       "dtype: object"
      ]
     },
     "execution_count": 5,
     "metadata": {},
     "output_type": "execute_result"
    }
   ],
   "source": [
    "df.dtypes"
   ]
  },
  {
   "cell_type": "markdown",
   "metadata": {},
   "source": [
    "#### Task 1: Calculate the number of sales based on location and category"
   ]
  },
  {
   "cell_type": "markdown",
   "metadata": {},
   "source": [
    "The data contains several shopping malls facilities.The location is placed in the column \"shopping_mall\". For each location, there are several categories of items that were sold and this is placed in the column \"category\". We need to check for unique location, category and customer ID"
   ]
  },
  {
   "cell_type": "code",
   "execution_count": null,
   "metadata": {},
   "outputs": [
    {
     "name": "stdout",
     "output_type": "stream",
     "text": [
      "1 Kanyon\n",
      "2 Forum Istanbul\n",
      "3 Metrocity\n",
      "4 Metropol AVM\n",
      "5 Istinye Park\n",
      "6 Mall of Istanbul\n",
      "7 Emaar Square Mall\n",
      "8 Cevahir AVM\n",
      "9 Viaport Outlet\n",
      "10 Zorlu Center\n"
     ]
    }
   ],
   "source": [
    "value = df[\"shopping_mall\"].unique()\n",
    "for index, row in enumerate(value):\n",
    "    print(index+1, row)"
   ]
  },
  {
   "cell_type": "code",
   "execution_count": 7,
   "metadata": {},
   "outputs": [
    {
     "name": "stdout",
     "output_type": "stream",
     "text": [
      "category\n",
      "Clothing           34487\n",
      "Cosmetics          15097\n",
      "Food & Beverage    14776\n",
      "Toys               10087\n",
      "Shoes              10034\n",
      "Souvenir            4999\n",
      "Technology          4996\n",
      "Books               4981\n",
      "Name: count, dtype: int64\n"
     ]
    }
   ],
   "source": [
    "category = df[\"category\"].value_counts()\n",
    "print(category)"
   ]
  },
  {
   "cell_type": "code",
   "execution_count": 8,
   "metadata": {},
   "outputs": [
    {
     "name": "stdout",
     "output_type": "stream",
     "text": [
      "shopping_mall  category       \n",
      "Cevahir AVM    Clothing           1729\n",
      "               Food & Beverage     772\n",
      "               Cosmetics           732\n",
      "               Toys                514\n",
      "               Shoes               490\n",
      "                                  ... \n",
      "Zorlu Center   Shoes               519\n",
      "               Toys                513\n",
      "               Books               261\n",
      "               Souvenir            257\n",
      "               Technology          250\n",
      "Name: count, Length: 80, dtype: int64\n"
     ]
    }
   ],
   "source": [
    "category = df[\"category\"].groupby(df[\"shopping_mall\"]).value_counts()\n",
    "print(category)"
   ]
  },
  {
   "cell_type": "code",
   "execution_count": 9,
   "metadata": {},
   "outputs": [
    {
     "name": "stdout",
     "output_type": "stream",
     "text": [
      "99457\n",
      "99457\n"
     ]
    }
   ],
   "source": [
    "ID = df[\"customer_id\"].unique()\n",
    "print(len(df))\n",
    "print(len(ID))"
   ]
  },
  {
   "cell_type": "code",
   "execution_count": 10,
   "metadata": {},
   "outputs": [
    {
     "name": "stdout",
     "output_type": "stream",
     "text": [
      "Index(['invoice_no', 'customer_id', 'gender', 'age', 'category', 'quantity',\n",
      "       'price', 'payment_method', 'invoice_date', 'shopping_mall'],\n",
      "      dtype='object')\n",
      "10\n"
     ]
    }
   ],
   "source": [
    "print(df.columns)\n",
    "print(len(df.columns))"
   ]
  },
  {
   "cell_type": "code",
   "execution_count": 11,
   "metadata": {},
   "outputs": [
    {
     "data": {
      "text/html": [
       "<div>\n",
       "<style scoped>\n",
       "    .dataframe tbody tr th:only-of-type {\n",
       "        vertical-align: middle;\n",
       "    }\n",
       "\n",
       "    .dataframe tbody tr th {\n",
       "        vertical-align: top;\n",
       "    }\n",
       "\n",
       "    .dataframe thead th {\n",
       "        text-align: right;\n",
       "    }\n",
       "</style>\n",
       "<table border=\"1\" class=\"dataframe\">\n",
       "  <thead>\n",
       "    <tr style=\"text-align: right;\">\n",
       "      <th></th>\n",
       "      <th>gender</th>\n",
       "      <th>age</th>\n",
       "      <th>category</th>\n",
       "      <th>quantity</th>\n",
       "      <th>price</th>\n",
       "      <th>payment_method</th>\n",
       "      <th>invoice_date</th>\n",
       "      <th>shopping_mall</th>\n",
       "    </tr>\n",
       "  </thead>\n",
       "  <tbody>\n",
       "    <tr>\n",
       "      <th>1</th>\n",
       "      <td>Female</td>\n",
       "      <td>28</td>\n",
       "      <td>Clothing</td>\n",
       "      <td>5</td>\n",
       "      <td>1500.40</td>\n",
       "      <td>Credit Card</td>\n",
       "      <td>5/8/2022</td>\n",
       "      <td>Kanyon</td>\n",
       "    </tr>\n",
       "    <tr>\n",
       "      <th>2</th>\n",
       "      <td>Male</td>\n",
       "      <td>21</td>\n",
       "      <td>Shoes</td>\n",
       "      <td>3</td>\n",
       "      <td>1800.51</td>\n",
       "      <td>Debit Card</td>\n",
       "      <td>12/12/2021</td>\n",
       "      <td>Forum Istanbul</td>\n",
       "    </tr>\n",
       "    <tr>\n",
       "      <th>3</th>\n",
       "      <td>Male</td>\n",
       "      <td>20</td>\n",
       "      <td>Clothing</td>\n",
       "      <td>1</td>\n",
       "      <td>300.08</td>\n",
       "      <td>Cash</td>\n",
       "      <td>9/11/2021</td>\n",
       "      <td>Metrocity</td>\n",
       "    </tr>\n",
       "    <tr>\n",
       "      <th>4</th>\n",
       "      <td>Female</td>\n",
       "      <td>66</td>\n",
       "      <td>Shoes</td>\n",
       "      <td>5</td>\n",
       "      <td>3000.85</td>\n",
       "      <td>Credit Card</td>\n",
       "      <td>16/05/2021</td>\n",
       "      <td>Metropol AVM</td>\n",
       "    </tr>\n",
       "    <tr>\n",
       "      <th>5</th>\n",
       "      <td>Female</td>\n",
       "      <td>53</td>\n",
       "      <td>Books</td>\n",
       "      <td>4</td>\n",
       "      <td>60.60</td>\n",
       "      <td>Cash</td>\n",
       "      <td>24/10/2021</td>\n",
       "      <td>Kanyon</td>\n",
       "    </tr>\n",
       "  </tbody>\n",
       "</table>\n",
       "</div>"
      ],
      "text/plain": [
       "   gender  age  category  quantity    price payment_method invoice_date  \\\n",
       "1  Female   28  Clothing         5  1500.40    Credit Card     5/8/2022   \n",
       "2    Male   21     Shoes         3  1800.51     Debit Card   12/12/2021   \n",
       "3    Male   20  Clothing         1   300.08           Cash    9/11/2021   \n",
       "4  Female   66     Shoes         5  3000.85    Credit Card   16/05/2021   \n",
       "5  Female   53     Books         4    60.60           Cash   24/10/2021   \n",
       "\n",
       "    shopping_mall  \n",
       "1          Kanyon  \n",
       "2  Forum Istanbul  \n",
       "3       Metrocity  \n",
       "4    Metropol AVM  \n",
       "5          Kanyon  "
      ]
     },
     "execution_count": 11,
     "metadata": {},
     "output_type": "execute_result"
    }
   ],
   "source": [
    "df = df.drop(columns=[\"invoice_no\", \"customer_id\"])\n",
    "df.reset_index(drop=True, inplace=True)\n",
    "df.index=df.index +1 \n",
    "df.head()"
   ]
  },
  {
   "cell_type": "code",
   "execution_count": 14,
   "metadata": {},
   "outputs": [],
   "source": [
    "df.to_csv('data.csv', index=False)"
   ]
  }
 ],
 "metadata": {
  "kernelspec": {
   "display_name": ".venv",
   "language": "python",
   "name": "python3"
  },
  "language_info": {
   "codemirror_mode": {
    "name": "ipython",
    "version": 3
   },
   "file_extension": ".py",
   "mimetype": "text/x-python",
   "name": "python",
   "nbconvert_exporter": "python",
   "pygments_lexer": "ipython3",
   "version": "3.12.3"
  }
 },
 "nbformat": 4,
 "nbformat_minor": 2
}
